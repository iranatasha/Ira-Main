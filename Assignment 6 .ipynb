{
 "cells": [
  {
   "cell_type": "code",
   "execution_count": 3,
   "id": "a430e667",
   "metadata": {},
   "outputs": [
    {
     "name": "stdout",
     "output_type": "stream",
     "text": [
      "Final velocity: 10.094552986635911 m/s\n"
     ]
    }
   ],
   "source": [
    "import numpy as np\n",
    "from scipy.optimize import fsolve\n",
    "\n",
    "def bernoulli_equation(velocity, height, pressure, density, gravity):\n",
    "    return 0.5 * density * velocity**2 + density * gravity * height - pressure\n",
    "\n",
    "def solve_bernoulli_equation(velocity_guess, height, pressure, density, gravity):\n",
    "    result = fsolve(bernoulli_equation, velocity_guess, args=(height, pressure, density, gravity))\n",
    "    return result[0]\n",
    "\n",
    "# Example usage\n",
    "initial_velocity_guess = 10.0 \n",
    "height = 5.0 \n",
    "pressure = 100000.0  \n",
    "density = 1000.0  \n",
    "gravity = 9.81\n",
    "\n",
    "# Solve the Bernoulli's equation\n",
    "final_velocity = solve_bernoulli_equation(initial_velocity_guess, height, pressure, density, gravity)\n",
    "\n",
    "# Display the result\n",
    "print(f\"Final velocity: {final_velocity} m/s\")"
   ]
  },
  {
   "cell_type": "code",
   "execution_count": null,
   "id": "d52cf14d",
   "metadata": {},
   "outputs": [],
   "source": []
  }
 ],
 "metadata": {
  "kernelspec": {
   "display_name": "Python 3 (ipykernel)",
   "language": "python",
   "name": "python3"
  },
  "language_info": {
   "codemirror_mode": {
    "name": "ipython",
    "version": 3
   },
   "file_extension": ".py",
   "mimetype": "text/x-python",
   "name": "python",
   "nbconvert_exporter": "python",
   "pygments_lexer": "ipython3",
   "version": "3.11.5"
  }
 },
 "nbformat": 4,
 "nbformat_minor": 5
}
