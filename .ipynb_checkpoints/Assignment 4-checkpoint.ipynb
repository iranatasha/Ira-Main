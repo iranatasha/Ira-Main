{
 "cells": [
  {
   "cell_type": "code",
   "execution_count": 44,
   "id": "440c0440",
   "metadata": {},
   "outputs": [
    {
     "name": "stdout",
     "output_type": "stream",
     "text": [
      " Checkout Processed by: Sarah Connor\n",
      " Books Checked Out: \n",
      "-1984\n",
      "-Brave New World\n",
      " Checkout Duration: 3 weeks\n",
      "Additional Checkout details by Sarah Connor:\n",
      "- Late Fee: 0.25$\n",
      "- Renewals Allowed: 2\n",
      "- Payment Using: Credit Card\n",
      "Special Conditions for Checkout: \n",
      "Please handle with care , Always place books at safe places , Do not eat and read .\n"
     ]
    }
   ],
   "source": [
    "# Positional Argument\n",
    "def librarian_information(librarian_name):\n",
    "    #Display information about a librarian who processed checkout.\n",
    "    print( \" Checkout Processed by: \" + librarian_name )\n",
    "    \n",
    "#Positional arguments:\n",
    "librarian_information('Sarah Connor')\n",
    "\n",
    "def book_titles(book_name1, book_name2):\n",
    "    #Display the titles of the books to borrow.\n",
    "    print( \" Books Checked Out: \")\n",
    "    print( book_name1 )\n",
    "    print( book_name2 )\n",
    "\n",
    "#Positional arguments:\n",
    "book_titles('-1984', '-Brave New World')\n",
    "\n",
    "#Keyword Argument\n",
    "def checkout_duration(checkout_time):\n",
    "    #Display the default checkout duration.\n",
    "    print(\" Checkout Duration: \" + checkout_time )\n",
    "checkout_duration( checkout_time = \"3 weeks\")\n",
    "\n",
    "#using **kwargs\n",
    "def additional_checkout(librarian_name, **details):\n",
    "     # Process a checkout with additional details.\n",
    "    print( \"Additional Checkout details by \" + librarian_name + \":\")\n",
    "    for detail, value in details.items():\n",
    "        print(\"- \" + detail.replace('_', ' ').title() + \": \" + str(value))\n",
    "additional_checkout('Sarah Connor', late_fee='0.25$', renewals_allowed='2', payment_using='Credit Card')\n",
    "\n",
    "def special_conditions(condition_1, condition_2, condition_3):\n",
    "    print(\"Special Conditions for Checkout: \")\n",
    "    print(\"Please \" + condition_1, \", Always \" + condition_2, \", Do not \" + condition_3, \".\")\n",
    "special_conditions('handle with care', 'place books at safe places', 'eat and read')"
   ]
  },
  {
   "cell_type": "code",
   "execution_count": null,
   "id": "3dd520fa",
   "metadata": {},
   "outputs": [],
   "source": []
  }
 ],
 "metadata": {
  "kernelspec": {
   "display_name": "Python 3 (ipykernel)",
   "language": "python",
   "name": "python3"
  },
  "language_info": {
   "codemirror_mode": {
    "name": "ipython",
    "version": 3
   },
   "file_extension": ".py",
   "mimetype": "text/x-python",
   "name": "python",
   "nbconvert_exporter": "python",
   "pygments_lexer": "ipython3",
   "version": "3.11.5"
  }
 },
 "nbformat": 4,
 "nbformat_minor": 5
}
