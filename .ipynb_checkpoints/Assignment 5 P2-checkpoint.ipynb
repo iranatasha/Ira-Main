{
 "cells": [
  {
   "cell_type": "code",
   "execution_count": null,
   "id": "90251bf5",
   "metadata": {},
   "outputs": [
    {
     "name": "stdout",
     "output_type": "stream",
     "text": [
      "Enter the name of a state: Selangor\n",
      "Population of Selangor: 6668000\n"
     ]
    }
   ],
   "source": [
    "# Sample dataset of state populations\n",
    "state_population = {\n",
    "    'Johor': 3794000,\n",
    "    'Kedah': 1977000,\n",
    "    'Kelantan': 1931000,\n",
    "    'Melaka': 932000,\n",
    "    'Negeri Sembilan': 1120000,\n",
    "    'Pahang': 1674000,\n",
    "    'Perak': 2510000,\n",
    "    'Perlis': 254000,\n",
    "    'Pulau Pinang': 1759000,\n",
    "    'Sabah': 3900000,\n",
    "    'Sarawak': 2807000,\n",
    "    'Selangor': 6668000,\n",
    "    'Terengganu': 1281000,\n",
    "}\n",
    "\n",
    "def get_population(state_name):\n",
    "    # Check if the state is in the dataset\n",
    "    if state_name in state_population:\n",
    "        return state_population[state_name]\n",
    "    else:\n",
    "        return None\n",
    "\n",
    "def main():\n",
    "    while True:\n",
    "        # Take user input for the state name\n",
    "        state_name = input(\"Enter the name of a state: \")\n",
    "\n",
    "        # Check if the user wants to exit\n",
    "        if state_name.lower() == 'exit':\n",
    "            break\n",
    "\n",
    "        # Get the population based on the user input\n",
    "        population = get_population(state_name)\n",
    "\n",
    "        # Display the result\n",
    "        if population is not None:\n",
    "            print(f\"Population of {state_name}: {population}\")\n",
    "        else:\n",
    "            print(f\"{state_name} is not found in the data.\")\n",
    "\n",
    "if __name__ == \"__main__\":\n",
    "    main()\n"
   ]
  },
  {
   "cell_type": "code",
   "execution_count": null,
   "id": "9a62dd82",
   "metadata": {},
   "outputs": [],
   "source": []
  }
 ],
 "metadata": {
  "kernelspec": {
   "display_name": "Python 3 (ipykernel)",
   "language": "python",
   "name": "python3"
  },
  "language_info": {
   "codemirror_mode": {
    "name": "ipython",
    "version": 3
   },
   "file_extension": ".py",
   "mimetype": "text/x-python",
   "name": "python",
   "nbconvert_exporter": "python",
   "pygments_lexer": "ipython3",
   "version": "3.11.5"
  }
 },
 "nbformat": 4,
 "nbformat_minor": 5
}
