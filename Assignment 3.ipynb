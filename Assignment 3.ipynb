{
 "cells": [
  {
   "cell_type": "code",
   "execution_count": 1,
   "id": "14523c06",
   "metadata": {},
   "outputs": [
    {
     "ename": "TypeError",
     "evalue": "can only concatenate str (not \"int\") to str",
     "output_type": "error",
     "traceback": [
      "\u001b[1;31m---------------------------------------------------------------------------\u001b[0m",
      "\u001b[1;31mTypeError\u001b[0m                                 Traceback (most recent call last)",
      "Cell \u001b[1;32mIn[1], line 1\u001b[0m\n\u001b[1;32m----> 1\u001b[0m x \u001b[38;5;241m=\u001b[39m \u001b[38;5;124m\"\u001b[39m\u001b[38;5;124m2\u001b[39m\u001b[38;5;124m\"\u001b[39m \u001b[38;5;241m+\u001b[39m \u001b[38;5;241m2\u001b[39m\n",
      "\u001b[1;31mTypeError\u001b[0m: can only concatenate str (not \"int\") to str"
     ]
    }
   ],
   "source": [
    "x = \"2\" + 2"
   ]
  },
  {
   "cell_type": "code",
   "execution_count": 3,
   "id": "284edc18",
   "metadata": {},
   "outputs": [
    {
     "ename": "SyntaxError",
     "evalue": "invalid syntax (268746770.py, line 3)",
     "output_type": "error",
     "traceback": [
      "\u001b[1;36m  Cell \u001b[1;32mIn[3], line 3\u001b[1;36m\u001b[0m\n\u001b[1;33m    except TypeError:\u001b[0m\n\u001b[1;37m    ^\u001b[0m\n\u001b[1;31mSyntaxError\u001b[0m\u001b[1;31m:\u001b[0m invalid syntax\n"
     ]
    }
   ],
   "source": [
    "try:\n",
    "    x = \"2\" + 2\n",
    "    except TypeError:"
   ]
  },
  {
   "cell_type": "code",
   "execution_count": 3,
   "id": "347fdae0",
   "metadata": {},
   "outputs": [
    {
     "name": "stdout",
     "output_type": "stream",
     "text": [
      "Enter a number1 : a\n",
      "Enter a number2 : b\n",
      "The input you submitted is not integer!\n"
     ]
    }
   ],
   "source": [
    "try:\n",
    "    simple_calculator1 = input(\"Enter a number1 : \")\n",
    "    simple_calculator2 = input(\"Enter a number2 : \")\n",
    "    \n",
    "    result_add = int(simple_calculator1) + int(simple_calculator2)\n",
    "    print(result_add)\n",
    "    \n",
    "    result_sub = int(simple_calculator1) - int(simple_calculator2)\n",
    "    print(result_sub)\n",
    "    \n",
    "    result_mul = int(simple_calculator1) * int(simple_calculator2)\n",
    "    print(result_mul)\n",
    "    \n",
    "    result_div = int(simple_calculator1) / int(simple_calculator2)\n",
    "    print(result_div)\n",
    "    \n",
    "except ValueError:\n",
    "    print(\"The input you submitted is not integer!\")\n",
    "    \n",
    "except ZeroDivisionError:\n",
    "    print(\"You cannnot divide a number with 0!\")\n",
    "    "
   ]
  }
 ],
 "metadata": {
  "kernelspec": {
   "display_name": "Python 3 (ipykernel)",
   "language": "python",
   "name": "python3"
  },
  "language_info": {
   "codemirror_mode": {
    "name": "ipython",
    "version": 3
   },
   "file_extension": ".py",
   "mimetype": "text/x-python",
   "name": "python",
   "nbconvert_exporter": "python",
   "pygments_lexer": "ipython3",
   "version": "3.11.5"
  }
 },
 "nbformat": 4,
 "nbformat_minor": 5
}
