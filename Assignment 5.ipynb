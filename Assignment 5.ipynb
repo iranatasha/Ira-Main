{
 "cells": [
  {
   "cell_type": "code",
   "execution_count": 1,
   "id": "7d77a795",
   "metadata": {},
   "outputs": [
    {
     "ename": "NameError",
     "evalue": "name '_name_' is not defined",
     "output_type": "error",
     "traceback": [
      "\u001b[1;31m---------------------------------------------------------------------------\u001b[0m",
      "\u001b[1;31mNameError\u001b[0m                                 Traceback (most recent call last)",
      "Cell \u001b[1;32mIn[1], line 30\u001b[0m\n\u001b[0;32m     27\u001b[0m     \u001b[38;5;28;01mexcept\u001b[39;00m \u001b[38;5;167;01mException\u001b[39;00m \u001b[38;5;28;01mas\u001b[39;00m e:\n\u001b[0;32m     28\u001b[0m         \u001b[38;5;28mprint\u001b[39m(\u001b[38;5;124mf\u001b[39m\u001b[38;5;124m\"\u001b[39m\u001b[38;5;124mError: \u001b[39m\u001b[38;5;132;01m{\u001b[39;00me\u001b[38;5;132;01m}\u001b[39;00m\u001b[38;5;124m\"\u001b[39m)\n\u001b[1;32m---> 30\u001b[0m \u001b[38;5;28;01mif\u001b[39;00m _name_ \u001b[38;5;241m==\u001b[39m \u001b[38;5;124m\"\u001b[39m\u001b[38;5;124m_main_\u001b[39m\u001b[38;5;124m\"\u001b[39m:\n\u001b[0;32m     31\u001b[0m     input_csv_file \u001b[38;5;241m=\u001b[39m \u001b[38;5;124m\"\u001b[39m\u001b[38;5;124mstudents.csv\u001b[39m\u001b[38;5;124m\"\u001b[39m\n\u001b[0;32m     32\u001b[0m     output_csv_file \u001b[38;5;241m=\u001b[39m \u001b[38;5;124m\"\u001b[39m\u001b[38;5;124mtop_students.csv\u001b[39m\u001b[38;5;124m\"\u001b[39m\n",
      "\u001b[1;31mNameError\u001b[0m: name '_name_' is not defined"
     ]
    }
   ],
   "source": [
    "import csv\n",
    "\n",
    "def process_students_csv(input_file, output_file):\n",
    "    try:\n",
    "        with open(input_file, 'r') as infile, open(output_file, 'w', newline='') as outfile:\n",
    "            # Create CSV reader and writer objects\n",
    "            reader = csv.DictReader(infile)\n",
    "            fieldnames = reader.fieldnames + ['Status']\n",
    "            writer = csv.DictWriter(outfile, fieldnames=fieldnames)\n",
    "\n",
    "            # Write header to the output file\n",
    "            writer.writeheader()\n",
    "\n",
    "            # Process each row in the input file\n",
    "            for row in reader:\n",
    "                # Convert grade to uppercase for comparison\n",
    "                grade = row['Grade'].upper()\n",
    "\n",
    "                # Filter students with grade greater than or equal to 'B'\n",
    "                if grade >= 'B':\n",
    "                    row['Status'] = 'Passed'\n",
    "                    writer.writerow(row)\n",
    "\n",
    "        print(f\"Filtered data saved to '{output_file}'.\")\n",
    "    except FileNotFoundError:\n",
    "        print(f\"Error: File '{input_file}' not found.\")\n",
    "    except Exception as e:\n",
    "        print(f\"Error: {e}\")\n",
    "\n",
    "if _name_ == \"_main_\":\n",
    "    input_csv_file = \"students.csv\"\n",
    "    output_csv_file = \"top_students.csv\"\n",
    "\n",
    "    process_students_csv(input_csv_file, output_csv_file)\n"
   ]
  },
  {
   "cell_type": "code",
   "execution_count": null,
   "id": "4b208115",
   "metadata": {},
   "outputs": [],
   "source": []
  }
 ],
 "metadata": {
  "kernelspec": {
   "display_name": "Python 3 (ipykernel)",
   "language": "python",
   "name": "python3"
  },
  "language_info": {
   "codemirror_mode": {
    "name": "ipython",
    "version": 3
   },
   "file_extension": ".py",
   "mimetype": "text/x-python",
   "name": "python",
   "nbconvert_exporter": "python",
   "pygments_lexer": "ipython3",
   "version": "3.11.5"
  }
 },
 "nbformat": 4,
 "nbformat_minor": 5
}
